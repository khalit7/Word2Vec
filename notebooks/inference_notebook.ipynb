{
 "cells": [
  {
   "cell_type": "code",
   "execution_count": 1,
   "id": "a25c15c5-8d5d-4fc5-a6f9-bfc145676829",
   "metadata": {},
   "outputs": [
    {
     "name": "stderr",
     "output_type": "stream",
     "text": [
      "/Users/khalid/opt/anaconda3/envs/nlp_env/lib/python3.10/site-packages/tqdm/auto.py:22: TqdmWarning: IProgress not found. Please update jupyter and ipywidgets. See https://ipywidgets.readthedocs.io/en/stable/user_install.html\n",
      "  from .autonotebook import tqdm as notebook_tqdm\n"
     ]
    },
    {
     "data": {
      "text/plain": [
       "<module 'helper' from '/Users/khalid/personal_nlp_playground/word2vec/notebooks/../utils/helper.py'>"
      ]
     },
     "execution_count": 1,
     "metadata": {},
     "output_type": "execute_result"
    }
   ],
   "source": [
    "import torch\n",
    "import torch.nn as nn\n",
    "import os\n",
    "\n",
    "from torch.utils.data import DataLoader\n",
    "from torchtext.datasets import WikiText2\n",
    "\n",
    "from torchtext.vocab import vocab\n",
    "from torchtext.vocab import build_vocab_from_iterator\n",
    "from torchtext.data import get_tokenizer\n",
    "\n",
    "from functools import partial\n",
    "\n",
    "import numpy as np\n",
    "\n",
    "import sys\n",
    "sys.path.append(\"../utils\")\n",
    "import constants as CONSTANTS\n",
    "import dataset\n",
    "import models\n",
    "import helper\n",
    "\n",
    "import importlib\n",
    "importlib.reload(CONSTANTS)\n",
    "importlib.reload(models)\n",
    "importlib.reload(dataset)\n",
    "importlib.reload(helper)"
   ]
  },
  {
   "cell_type": "markdown",
   "id": "7bc9d195-af1e-4e38-a4ee-ae4046b64d23",
   "metadata": {},
   "source": [
    "# Load everything"
   ]
  },
  {
   "cell_type": "code",
   "execution_count": 3,
   "id": "19c6a1bf-fca6-4936-b0e7-eee96050c05f",
   "metadata": {},
   "outputs": [],
   "source": [
    "\n",
    "model_name = \"cbow\"\n",
    "path = f\"../weights/{model_name}/model.pth\"\n",
    "train_loader,vocab = dataset.get_data_loader_and_vocab(model_name,\"train\",batch_size=32,shuffle=True,vocab=None)\n",
    "model = helper.get_model_by_name(model_name,vocab_size = len(vocab))"
   ]
  },
  {
   "cell_type": "code",
   "execution_count": 4,
   "id": "32fd4121-c12e-48ae-b15b-5c1c895701b2",
   "metadata": {},
   "outputs": [
    {
     "data": {
      "text/plain": [
       "<All keys matched successfully>"
      ]
     },
     "execution_count": 4,
     "metadata": {},
     "output_type": "execute_result"
    }
   ],
   "source": [
    "model.load_state_dict(torch.load(path))"
   ]
  },
  {
   "cell_type": "markdown",
   "id": "82d5ff18-896d-4a73-a16f-6b68b1c3f979",
   "metadata": {},
   "source": [
    "# get the embeddings"
   ]
  },
  {
   "cell_type": "code",
   "execution_count": 34,
   "id": "4048a0b4-7798-4ff5-a09e-1718d7f663f9",
   "metadata": {},
   "outputs": [
    {
     "data": {
      "text/plain": [
       "torch.Size([2175, 300])"
      ]
     },
     "execution_count": 34,
     "metadata": {},
     "output_type": "execute_result"
    }
   ],
   "source": [
    "embeds = list(model.parameters())[0].detach().clone()\n",
    "\n",
    "# normalization\n",
    "norms = (embeds ** 2).sum(axis=1) ** (1 / 2)\n",
    "norms = np.reshape(norms, (len(norms), 1))\n",
    "embeddings_norm = embeds / norms\n",
    "embeddings_norm.shape"
   ]
  },
  {
   "cell_type": "markdown",
   "id": "ccb067dd-629a-4953-afa7-2c3ed8069742",
   "metadata": {},
   "source": [
    "# get most simillar words"
   ]
  },
  {
   "cell_type": "code",
   "execution_count": 37,
   "id": "b2920a7b-637f-4efe-932f-398ec1183f50",
   "metadata": {},
   "outputs": [],
   "source": [
    "def get_most_n_similar_words(word,n=5):\n",
    "    word_idx = vocab[word]\n",
    "    if word_idx == 0:\n",
    "        raise Exception(\"Out of vocabulary word, try another one\")\n",
    "    #\n",
    "    word_vec = embeds[word_idx]\n",
    "    word_vec = np.reshape(word_vec, (len(word_vec), 1))\n",
    "    sim_matrix = np.matmul(embeds,embeds.t())\n",
    "    \n",
    "    dists = np.matmul(embeddings_norm, word_vec).flatten()\n",
    "    topN_ids = np.argsort(-dists)[1 : n + 1]\n",
    "\n",
    "    topN_dict = {}\n",
    "    for sim_word_id in topN_ids:\n",
    "        sim_word = vocab.lookup_token(sim_word_id)\n",
    "        topN_dict[sim_word] = dists[sim_word_id]\n",
    "    return topN_dict"
   ]
  },
  {
   "cell_type": "code",
   "execution_count": 56,
   "id": "0f56bda7-0065-429f-906f-e384a285d0ab",
   "metadata": {},
   "outputs": [
    {
     "data": {
      "text/plain": [
       "{'units': tensor(4.4426),\n",
       " 'part': tensor(3.8911),\n",
       " 'club': tensor(3.8699),\n",
       " 'tower': tensor(3.6878),\n",
       " 'production': tensor(3.5750)}"
      ]
     },
     "execution_count": 56,
     "metadata": {},
     "output_type": "execute_result"
    }
   ],
   "source": [
    "get_most_n_similar_words(\"center\",n=5)"
   ]
  },
  {
   "cell_type": "markdown",
   "id": "3caad7e2-1b19-49f6-8cb2-5867ff82dd8a",
   "metadata": {},
   "source": [
    "# vector equations"
   ]
  },
  {
   "cell_type": "code",
   "execution_count": 58,
   "id": "5fe7fcd2-1fd5-493e-8e74-2a96e251924c",
   "metadata": {},
   "outputs": [
    {
     "name": "stdout",
     "output_type": "stream",
     "text": [
      "king: 0.617\n",
      "woman: 0.528\n",
      "poetry: 0.205\n",
      "henry: 0.195\n",
      "location: 0.187\n"
     ]
    }
   ],
   "source": [
    "emb1 = embeds[vocab[\"king\"]]\n",
    "emb2 = embeds[vocab[\"man\"]]\n",
    "emb3 = embeds[vocab[\"woman\"]]\n",
    "\n",
    "emb4 = emb1 - emb2 + emb3\n",
    "emb4_norm = (emb4 ** 2).sum() ** (1 / 2)\n",
    "emb4 = emb4 / emb4_norm\n",
    "\n",
    "emb4 = np.reshape(emb4, (len(emb4), 1))\n",
    "dists = np.matmul(embeddings_norm, emb4).flatten()\n",
    "\n",
    "top5 = np.argsort(-dists)[:5]\n",
    "\n",
    "for word_id in top5:\n",
    "    print(\"{}: {:.3f}\".format(vocab.lookup_token(word_id), dists[word_id]))"
   ]
  },
  {
   "cell_type": "code",
   "execution_count": null,
   "id": "6a4ae76f-93b6-41f2-a512-c42fea30de1f",
   "metadata": {},
   "outputs": [],
   "source": []
  }
 ],
 "metadata": {
  "kernelspec": {
   "display_name": "Python [conda env:nlp_env]",
   "language": "python",
   "name": "conda-env-nlp_env-py"
  },
  "language_info": {
   "codemirror_mode": {
    "name": "ipython",
    "version": 3
   },
   "file_extension": ".py",
   "mimetype": "text/x-python",
   "name": "python",
   "nbconvert_exporter": "python",
   "pygments_lexer": "ipython3",
   "version": "3.10.9"
  }
 },
 "nbformat": 4,
 "nbformat_minor": 5
}
